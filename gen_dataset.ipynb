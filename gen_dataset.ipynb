{
 "cells": [
  {
   "cell_type": "code",
   "execution_count": 1,
   "metadata": {},
   "outputs": [],
   "source": [
    "import cv2,os"
   ]
  },
  {
   "cell_type": "code",
   "execution_count": 2,
   "metadata": {},
   "outputs": [],
   "source": [
    "import csv"
   ]
  },
  {
   "cell_type": "code",
   "execution_count": 3,
   "metadata": {},
   "outputs": [],
   "source": [
    "import glob"
   ]
  },
  {
   "cell_type": "code",
   "execution_count": 4,
   "metadata": {},
   "outputs": [],
   "source": [
    "label = [\"Parasitized\",\"Uninfected\"]"
   ]
  },
  {
   "cell_type": "code",
   "execution_count": 5,
   "metadata": {},
   "outputs": [
    {
     "name": "stdout",
     "output_type": "stream",
     "text": [
      "Dataset Prepared\n"
     ]
    }
   ],
   "source": [
    "with open('csv/dataset.csv', 'w', newline='') as csvFile:\n",
    "    writer = csv.writer(csvFile)\n",
    "    writer.writerow([\"Label\",\"area_0\",\"area_1\",\"area_2\",\"area_3\",\"area_4\"])\n",
    "    for l in label:\n",
    "        dirList = glob.glob(\"cell_images/\"+l+\"/*.png\")\n",
    "        for img_path in dirList:\n",
    "            a=[l]\n",
    "            im = cv2.imread(img_path)\n",
    "            im_gray = cv2.cvtColor(im,cv2.COLOR_BGR2GRAY)\n",
    "            ret,thresh = cv2.threshold(im_gray,127,255,0)\n",
    "            contours,_ = cv2.findContours(thresh,1,2)\n",
    "\n",
    "            area=[]\n",
    "            for i in range(10):\n",
    "                try:\n",
    "                    area.append(cv2.contourArea(contours[i]))\n",
    "                except:\n",
    "                    area.append(0)\n",
    "            area.sort(reverse=True)\n",
    "            a.extend(area[i] for i in range(5))\n",
    "            writer.writerow(a)\n",
    "print(\"Dataset Prepared\")\n",
    "csvFile.close()"
   ]
  },
  {
   "cell_type": "code",
   "execution_count": null,
   "metadata": {},
   "outputs": [],
   "source": []
  }
 ],
 "metadata": {
  "kernelspec": {
   "display_name": "Python 3",
   "language": "python",
   "name": "python3"
  },
  "language_info": {
   "codemirror_mode": {
    "name": "ipython",
    "version": 3
   },
   "file_extension": ".py",
   "mimetype": "text/x-python",
   "name": "python",
   "nbconvert_exporter": "python",
   "pygments_lexer": "ipython3",
   "version": "3.8.5"
  }
 },
 "nbformat": 4,
 "nbformat_minor": 4
}
