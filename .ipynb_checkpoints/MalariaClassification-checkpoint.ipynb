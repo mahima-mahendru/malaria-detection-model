{
 "cells": [
  {
   "cell_type": "code",
   "execution_count": null,
   "metadata": {},
   "outputs": [],
   "source": [
    "import pandas as pd\n",
    "from sklearn.model_selection import train_test_split\n",
    "from sklearn.ensemble import RandomForestClassifier\n",
    "from sklearn import metrics\n",
    "import joblib"
   ]
  },
  {
   "cell_type": "code",
   "execution_count": null,
   "metadata": {},
   "outputs": [],
   "source": [
    "##Step1: Load Dataset\n",
    "\n",
    "dataframe = pd.read_csv(\"csv/dataset4.csv\")\n",
    "\n",
    "print(dataframe.head())"
   ]
  },
  {
   "cell_type": "code",
   "execution_count": null,
   "metadata": {},
   "outputs": [],
   "source": [
    "#Step2: Split into training and test data\n",
    "x = dataframe.drop([\"Label\"],axis=1)\n",
    "y = dataframe[\"Label\"]\n",
    "x_train, x_test, y_train, y_test = train_test_split(x,y,test_size=0.25,random_state=42)"
   ]
  },
  {
   "cell_type": "code",
   "execution_count": null,
   "metadata": {
    "scrolled": true
   },
   "outputs": [],
   "source": [
    "##Step4: Build a model\n",
    "for i in range (100,1001,100):\n",
    "    model = RandomForestClassifier(n_estimators=i,max_depth=5)\n",
    "    model.fit(x_train,y_train)\n",
    "    joblib.dump(model,\"rf_malaria_2_\"+str(i)+\"_5\")\n",
    "    print(\"Model \"+\"rf_malaria_2_\"+str(i)+\"_5\"+\" prepared\")"
   ]
  },
  {
   "cell_type": "code",
   "execution_count": null,
   "metadata": {},
   "outputs": [],
   "source": [
    "##Step5: Make predictions and get classification report\n",
    "\n",
    "for i in range (100,1001,100):\n",
    "    print(\"For model with parameter \"+str(i)+\" and 5\")\n",
    "    model=joblib.load(\"rf_malaria_2_\"+str(i)+\"_5\")\n",
    "    predictions = model.predict(x_test)\n",
    "    print(metrics.classification_report(predictions,y_test))\n",
    "    print(model.score(x_test,y_test))\n",
    "    print(\"\\n\\n\\n\")"
   ]
  },
  {
   "cell_type": "code",
   "execution_count": null,
   "metadata": {},
   "outputs": [],
   "source": []
  }
 ],
 "metadata": {
  "kernelspec": {
   "display_name": "Python 3",
   "language": "python",
   "name": "python3"
  },
  "language_info": {
   "codemirror_mode": {
    "name": "ipython",
    "version": 3
   },
   "file_extension": ".py",
   "mimetype": "text/x-python",
   "name": "python",
   "nbconvert_exporter": "python",
   "pygments_lexer": "ipython3",
   "version": "3.7.6"
  }
 },
 "nbformat": 4,
 "nbformat_minor": 4
}
